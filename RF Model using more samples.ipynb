{
 "cells": [
  {
   "cell_type": "markdown",
   "metadata": {},
   "source": [
    "## Random Forest Classifier (Identification)\n",
    "\n",
    "Class 1: Meghan\n",
    "\n",
    "Class 2: Gabe\n",
    "\n",
    "Class 3: Marghece"
   ]
  },
  {
   "cell_type": "code",
   "execution_count": 2,
   "metadata": {},
   "outputs": [],
   "source": [
    "## Imports\n",
    "\n",
    "import numpy as np\n",
    "import pandas as pd\n",
    "import matplotlib.pyplot as plt\n",
    "from scipy import signal\n",
    "from matplotlib import cm\n",
    "from sklearn import preprocessing\n",
    "from sklearn.model_selection import train_test_split\n",
    "from sklearn.model_selection import KFold\n",
    "from sklearn.model_selection import cross_val_score, GridSearchCV\n",
    "from sklearn.metrics import (classification_report,confusion_matrix,accuracy_score)\n",
    "from sklearn.ensemble import RandomForestClassifier\n",
    "from sklearn.metrics import f1_score, recall_score, precision_score\n",
    "from datetime import datetime\n",
    "\n",
    "\n",
    "%matplotlib inline\n",
    "\n",
    "import warnings\n",
    "warnings.filterwarnings('ignore')"
   ]
  },
  {
   "cell_type": "code",
   "execution_count": 3,
   "metadata": {},
   "outputs": [],
   "source": [
    "# Data Imports\n",
    "data1 = pd.read_csv('/Users/megha/Desktop/dataSpring2021/Meghan1.txt',sep=',')\n",
    "data1 = data1.drop(data1.columns[[0,5,6,7,8,9,10,11,12,13,14]],axis=1)\n",
    "\n",
    "data1_2 = pd.read_csv('/Users/megha/Desktop/dataSpring2021/Meghan2.txt',\n",
    "                      sep=',',header=4)\n",
    "data1_2 = data1_2.drop(data1_2.columns[[0,5,6,7,8,9,10,11,12,13,14]],axis=1)\n",
    "\n",
    "\n"
   ]
  },
  {
   "cell_type": "code",
   "execution_count": 6,
   "metadata": {},
   "outputs": [
    {
     "name": "stdout",
     "output_type": "stream",
     "text": [
      "4118 4305 4508\n"
     ]
    }
   ],
   "source": [
    "data2 = pd.read_csv('/Users/megha/Desktop/dataSpring2021/Gabe1.txt',\n",
    "                    sep=',',header=4)\n",
    "data3 = pd.read_csv('/Users/megha/Desktop/dataSpring2021/Marghece1.txt',\n",
    "                   sep=',',header=4)\n",
    "\n",
    "data2 = data2.drop(data2.columns[[0,5,6,7,8,9,10,11,12,13,14]],axis=1)\n",
    "data3 = data3.drop(data3.columns[[0,5,6,7,8,9,10,11,12,13,14]],axis=1)\n",
    "\n",
    "data2_2 = pd.read_csv('/Users/megha/Desktop/dataSpring2021/Gabe2.txt',\n",
    "                    sep=',',header=4)\n",
    "data2_2 = data2_2.drop(data2_2.columns[[0,5,6,7,8,9,10,11,12,13,14]],axis=1)\n",
    "\n",
    "data3_2 = pd.read_csv('/Users/megha/Desktop/dataSpring2021/Marghece2.txt',\n",
    "                    sep=',',header=4)\n",
    "\n",
    "data3_2 = data3_2.drop(data3_2.columns[[0,5,6,7,8,9,10,11,12,13,14]],axis=1)\n",
    "\n",
    "print(len(data1_2),len(data2_2),len(data3_2))"
   ]
  },
  {
   "cell_type": "markdown",
   "metadata": {},
   "source": [
    "### Creating Attribute and Target Sets\n",
    "\n",
    "The attributes are the 4 channels of the EEG, and the classes are the 3 subjects (Meghan, Gabe, Marghece)"
   ]
  },
  {
   "cell_type": "code",
   "execution_count": 10,
   "metadata": {},
   "outputs": [
    {
     "name": "stdout",
     "output_type": "stream",
     "text": [
      "Attribute 1 Shape:  (25656,)\n",
      "Attribute 2 Shape:  (25656,)\n",
      "Attribute 3 Shape:  (25656,)\n",
      "Attribute 4 Shape:  (25656,)\n"
     ]
    }
   ],
   "source": [
    "d1c0 = np.hstack((np.array(data1.iloc[0:4435,0]),np.array(data1_2.iloc[0:4117,0])))\n",
    "d1c1 = np.hstack((np.array(data1.iloc[0:4435,0]),np.array(data1_2.iloc[0:4117,1])))\n",
    "d1c2 = np.hstack((np.array(data1.iloc[0:4435,0]),np.array(data1_2.iloc[0:4117,2])))\n",
    "d1c3 = np.hstack((np.array(data1.iloc[0:4435,0]),np.array(data1_2.iloc[0:4117,3])))\n",
    "\n",
    "d2c0 = np.hstack((np.array(data2.iloc[0:4435,0]),np.array(data2_2.iloc[0:4117,0])))\n",
    "d2c1 = np.hstack((np.array(data2.iloc[0:4435,0]),np.array(data2_2.iloc[0:4117,1])))\n",
    "d2c2 = np.hstack((np.array(data2.iloc[0:4435,0]),np.array(data2_2.iloc[0:4117,2])))\n",
    "d2c3 = np.hstack((np.array(data2.iloc[0:4435,0]),np.array(data2_2.iloc[0:4117,3])))\n",
    "\n",
    "d3c0 = np.hstack((np.array(data3.iloc[0:4435,0]),np.array(data3_2.iloc[0:4117,0])))\n",
    "d3c1 = np.hstack((np.array(data3.iloc[0:4435,0]),np.array(data3_2.iloc[0:4117,1])))\n",
    "d3c2 = np.hstack((np.array(data3.iloc[0:4435,0]),np.array(data3_2.iloc[0:4117,2])))\n",
    "d3c3 = np.hstack((np.array(data3.iloc[0:4435,0]),np.array(data3_2.iloc[0:4117,3])))\n",
    "\n",
    "channel0 = np.hstack((d1c0,d2c0,d3c0))\n",
    "channel1 = np.hstack((d1c1,d2c1,d3c1))\n",
    "channel2 = np.hstack((d1c2,d2c2,d3c2))\n",
    "channel3 = np.hstack((d1c3,d2c3,d3c3))\n",
    "\n",
    "\n",
    "# Checking the shape of the attributes\n",
    "\n",
    "print('Attribute 1 Shape: ',channel0.shape) \n",
    "print('Attribute 2 Shape: ',channel1.shape)\n",
    "print('Attribute 3 Shape: ',channel2.shape)\n",
    "print('Attribute 4 Shape: ',channel3.shape)\n",
    "\n",
    "# Combining the attributes into one set\n",
    "channels = np.vstack((channel0,channel1,channel2,channel3)).transpose()"
   ]
  },
  {
   "cell_type": "code",
   "execution_count": 11,
   "metadata": {
    "scrolled": true
   },
   "outputs": [
    {
     "name": "stdout",
     "output_type": "stream",
     "text": [
      "Target Variable Shape:  (25656,)\n"
     ]
    }
   ],
   "source": [
    "## Creating the target variable set\n",
    "\n",
    "# Class 1: Meghan\n",
    "class1 = np.full(shape=8552,fill_value = 1,dtype=np.int)\n",
    "\n",
    "# Class 2: Gabe\n",
    "class2 = np.full(shape=8552,fill_value = 2,dtype=np.int)\n",
    "\n",
    "# Class 3: Marghece\n",
    "class3 = np.full(shape=8552,fill_value = 3,dtype=np.int)\n",
    "\n",
    "target = np.hstack((class1,class2,class3))\n",
    "\n",
    "print('Target Variable Shape: ',target.shape)"
   ]
  },
  {
   "cell_type": "markdown",
   "metadata": {},
   "source": [
    "### Brief Data Visualization"
   ]
  },
  {
   "cell_type": "code",
   "execution_count": 12,
   "metadata": {
    "scrolled": true
   },
   "outputs": [
    {
     "data": {
      "text/html": [
       "<div>\n",
       "<style scoped>\n",
       "    .dataframe tbody tr th:only-of-type {\n",
       "        vertical-align: middle;\n",
       "    }\n",
       "\n",
       "    .dataframe tbody tr th {\n",
       "        vertical-align: top;\n",
       "    }\n",
       "\n",
       "    .dataframe thead th {\n",
       "        text-align: right;\n",
       "    }\n",
       "</style>\n",
       "<table border=\"1\" class=\"dataframe\">\n",
       "  <thead>\n",
       "    <tr style=\"text-align: right;\">\n",
       "      <th></th>\n",
       "      <th>Channel 0</th>\n",
       "      <th>Channel 1</th>\n",
       "      <th>Channel 2</th>\n",
       "      <th>Channel 3</th>\n",
       "    </tr>\n",
       "  </thead>\n",
       "  <tbody>\n",
       "    <tr>\n",
       "      <th>0</th>\n",
       "      <td>20.270258</td>\n",
       "      <td>20.270258</td>\n",
       "      <td>20.270258</td>\n",
       "      <td>20.270258</td>\n",
       "    </tr>\n",
       "    <tr>\n",
       "      <th>1</th>\n",
       "      <td>11.100023</td>\n",
       "      <td>11.100023</td>\n",
       "      <td>11.100023</td>\n",
       "      <td>11.100023</td>\n",
       "    </tr>\n",
       "    <tr>\n",
       "      <th>2</th>\n",
       "      <td>-0.153336</td>\n",
       "      <td>-0.153336</td>\n",
       "      <td>-0.153336</td>\n",
       "      <td>-0.153336</td>\n",
       "    </tr>\n",
       "    <tr>\n",
       "      <th>3</th>\n",
       "      <td>1.544579</td>\n",
       "      <td>1.544579</td>\n",
       "      <td>1.544579</td>\n",
       "      <td>1.544579</td>\n",
       "    </tr>\n",
       "    <tr>\n",
       "      <th>4</th>\n",
       "      <td>24.810495</td>\n",
       "      <td>24.810495</td>\n",
       "      <td>24.810495</td>\n",
       "      <td>24.810495</td>\n",
       "    </tr>\n",
       "    <tr>\n",
       "      <th>5</th>\n",
       "      <td>8.519492</td>\n",
       "      <td>8.519492</td>\n",
       "      <td>8.519492</td>\n",
       "      <td>8.519492</td>\n",
       "    </tr>\n",
       "    <tr>\n",
       "      <th>6</th>\n",
       "      <td>8.826164</td>\n",
       "      <td>8.826164</td>\n",
       "      <td>8.826164</td>\n",
       "      <td>8.826164</td>\n",
       "    </tr>\n",
       "    <tr>\n",
       "      <th>7</th>\n",
       "      <td>12.532405</td>\n",
       "      <td>12.532405</td>\n",
       "      <td>12.532405</td>\n",
       "      <td>12.532405</td>\n",
       "    </tr>\n",
       "    <tr>\n",
       "      <th>8</th>\n",
       "      <td>9.731219</td>\n",
       "      <td>9.731219</td>\n",
       "      <td>9.731219</td>\n",
       "      <td>9.731219</td>\n",
       "    </tr>\n",
       "    <tr>\n",
       "      <th>9</th>\n",
       "      <td>-2.726387</td>\n",
       "      <td>-2.726387</td>\n",
       "      <td>-2.726387</td>\n",
       "      <td>-2.726387</td>\n",
       "    </tr>\n",
       "  </tbody>\n",
       "</table>\n",
       "</div>"
      ],
      "text/plain": [
       "   Channel 0  Channel 1  Channel 2  Channel 3\n",
       "0  20.270258  20.270258  20.270258  20.270258\n",
       "1  11.100023  11.100023  11.100023  11.100023\n",
       "2  -0.153336  -0.153336  -0.153336  -0.153336\n",
       "3   1.544579   1.544579   1.544579   1.544579\n",
       "4  24.810495  24.810495  24.810495  24.810495\n",
       "5   8.519492   8.519492   8.519492   8.519492\n",
       "6   8.826164   8.826164   8.826164   8.826164\n",
       "7  12.532405  12.532405  12.532405  12.532405\n",
       "8   9.731219   9.731219   9.731219   9.731219\n",
       "9  -2.726387  -2.726387  -2.726387  -2.726387"
      ]
     },
     "execution_count": 12,
     "metadata": {},
     "output_type": "execute_result"
    }
   ],
   "source": [
    "# Setting parameters\n",
    "figsize = plt.rcParams[\"figure.figsize\"]\n",
    "figsize[0] = 8\n",
    "figsize[1] = 8\n",
    "plt.rcParams[\"figure.figsize\"] = figsize\n",
    "\n",
    "# Table of Attributes\n",
    "\n",
    "df = pd.DataFrame(channels,columns = ['Channel 0','Channel 1','Channel 2','Channel 3'])\n",
    "df.head(10)"
   ]
  },
  {
   "cell_type": "code",
   "execution_count": 13,
   "metadata": {},
   "outputs": [],
   "source": [
    "# Converting to a dataframe for splitting purposes\n",
    "df_target = pd.DataFrame(target, columns = ['Target Variable'])"
   ]
  },
  {
   "cell_type": "code",
   "execution_count": 14,
   "metadata": {},
   "outputs": [
    {
     "data": {
      "image/png": "[encoded data removed]",
      "text/plain": [
       "<Figure size 576x576 with 4 Axes>"
      ]
     },
     "metadata": {
      "needs_background": "light"
     },
     "output_type": "display_data"
    }
   ],
   "source": [
    "## Histograms of Channels\n",
    "\n",
    "df.hist(layout=(2,2))\n",
    "plt.show()"
   ]
  },
  {
   "cell_type": "code",
   "execution_count": 15,
   "metadata": {
    "scrolled": false
   },
   "outputs": [
    {
     "data": {
      "image/png": "[encoded data removed]",
      "text/plain": [
       "<Figure size 576x576 with 4 Axes>"
      ]
     },
     "metadata": {
      "needs_background": "light"
     },
     "output_type": "display_data"
    }
   ],
   "source": [
    "## Boxplots\n",
    "\n",
    "df.plot(kind='box',subplots=True,layout=(2,2))\n",
    "plt.show()"
   ]
  },
  {
   "cell_type": "code",
   "execution_count": 16,
   "metadata": {},
   "outputs": [
    {
     "data": {
      "image/png": "[encoded data removed]",
      "text/plain": [
       "<Figure size 1008x720 with 2 Axes>"
      ]
     },
     "metadata": {
      "needs_background": "light"
     },
     "output_type": "display_data"
    }
   ],
   "source": [
    "## Correlation Matrix\n",
    "figure = plt.figure(figsize = (14,10))\n",
    "axs = figure.add_subplot(111)\n",
    "corrs = df.corr(method='pearson')\n",
    "c_axs = axs.matshow(corrs,vmin=-1,vmax=1)\n",
    "figure.colorbar(c_axs)\n",
    "axs.set_title('Correlation Matrix of The Channels',fontsize=20)\n",
    "plt.show()"
   ]
  },
  {
   "cell_type": "markdown",
   "metadata": {},
   "source": [
    "### Preprocessing\n",
    "\n",
    "Using Scikit-learn's scale() function"
   ]
  },
  {
   "cell_type": "code",
   "execution_count": 17,
   "metadata": {},
   "outputs": [
    {
     "data": {
      "image/png": "[encoded data removed]",
      "text/plain": [
       "<Figure size 576x576 with 4 Axes>"
      ]
     },
     "metadata": {
      "needs_background": "light"
     },
     "output_type": "display_data"
    }
   ],
   "source": [
    "preprocessing.scale(df,copy=False)\n",
    "\n",
    "## Histograms of preprocessed data\n",
    "df.hist(layout=(2,2))\n",
    "plt.show()"
   ]
  },
  {
   "cell_type": "code",
   "execution_count": 18,
   "metadata": {},
   "outputs": [
    {
     "data": {
      "image/png": "[encoded data removed]",
      "text/plain": [
       "<Figure size 576x576 with 4 Axes>"
      ]
     },
     "metadata": {
      "needs_background": "light"
     },
     "output_type": "display_data"
    }
   ],
   "source": [
    "## Boxplots of preprocessed data\n",
    "df.plot(kind='box',subplots=True,layout=(2,2))\n",
    "plt.show()"
   ]
  },
  {
   "cell_type": "markdown",
   "metadata": {},
   "source": [
    "### Data Splitting\n",
    "\n",
    "Into training and testing sets"
   ]
  },
  {
   "cell_type": "code",
   "execution_count": 19,
   "metadata": {},
   "outputs": [
    {
     "name": "stdout",
     "output_type": "stream",
     "text": [
      "xtrain shape:  (20524, 4)\n",
      "xtest shape:  (5132, 4)\n",
      "ytrain shape:  (20524, 1)\n",
      "ytest shape:  (5132, 1)\n"
     ]
    }
   ],
   "source": [
    "xtrain, xtest, ytrain, ytest = train_test_split(df,df_target,test_size=0.2)\n",
    "\n",
    "## Confirming that the dimensions still match\n",
    "print('xtrain shape: ',xtrain.shape)\n",
    "print('xtest shape: ',xtest.shape)\n",
    "print('ytrain shape: ',ytrain.shape)\n",
    "print('ytest shape: ',ytest.shape)"
   ]
  },
  {
   "cell_type": "markdown",
   "metadata": {},
   "source": [
    "### Building and Training Model\n",
    "\n",
    "Random Forest Classifier with a K-Fold with 5 folds"
   ]
  },
  {
   "cell_type": "code",
   "execution_count": 20,
   "metadata": {
    "scrolled": false
   },
   "outputs": [
    {
     "name": "stdout",
     "output_type": "stream",
     "text": [
      "Scoring Accuracy: 98.76 %\n",
      "Error: 1.24 %\n",
      "Scoring Standard Deviation: 0.19 %\n",
      "Precision: 98.64 %\n",
      "Recall: 98.63 %\n",
      "F1-Score: 98.64 %\n",
      "Model Training Time:  0:00:08.074117\n"
     ]
    }
   ],
   "source": [
    "seed = 462\n",
    "\n",
    "start = datetime.now()\n",
    "model = RandomForestClassifier(random_state = seed)\n",
    "kfold = KFold(n_splits = 5, random_state = seed, shuffle=True)\n",
    "\n",
    "model.fit(xtrain,ytrain)\n",
    "y_pred_test = model.predict(xtest)\n",
    "\n",
    "cval = cross_val_score(model,xtrain,ytrain,cv=kfold,scoring='accuracy')\n",
    "\n",
    "accuracy = cval.mean()*100\n",
    "error = 100-accuracy\n",
    "score_std = cval.std()*100\n",
    "precision = precision_score(ytest,y_pred_test,average='macro')*100\n",
    "recall = recall_score(ytest,y_pred_test,average='macro')*100\n",
    "f1score = f1_score(ytest,y_pred_test,average='macro')*100\n",
    "\n",
    "print('Scoring Accuracy: %.2f %%'%(accuracy))\n",
    "print('Error: %.2f %%'%(error))\n",
    "print('Scoring Standard Deviation: %.2f %%'%(score_std))\n",
    "print('Precision: %.2f %%'%(precision))\n",
    "print('Recall: %.2f %%'%(recall))\n",
    "print('F1-Score: %.2f %%'%(f1score))\n",
    "print('Model Training Time: ',(datetime.now() - start))"
   ]
  },
  {
   "cell_type": "markdown",
   "metadata": {},
   "source": [
    "### Model Tuning"
   ]
  },
  {
   "cell_type": "code",
   "execution_count": 21,
   "metadata": {},
   "outputs": [
    {
     "name": "stdout",
     "output_type": "stream",
     "text": [
      "Best Accuracy Acheived:  0.9876728446505355\n",
      "{'n_estimators': 50}\n"
     ]
    }
   ],
   "source": [
    "params = dict(n_estimators = np.array([50,100,150,200,250]))\n",
    "model2 = RandomForestClassifier(random_state=seed)\n",
    "kfold2 = KFold(n_splits=5,random_state=seed,shuffle=True)\n",
    "grid = GridSearchCV(estimator=model2,param_grid=params,scoring = 'accuracy',cv=kfold2)\n",
    "gridresult = grid.fit(xtrain,ytrain)\n",
    "\n",
    "print('Best Accuracy Acheived: ', gridresult.best_score_)\n",
    "print(gridresult.best_params_)\n"
   ]
  },
  {
   "cell_type": "code",
   "execution_count": 22,
   "metadata": {},
   "outputs": [
    {
     "data": {
      "text/html": [
       "<style  type=\"text/css\" >\n",
       "</style><table id=\"T_7be0ac3e_9409_11eb_8d2c_88787362e1f1\" ><thead>    <tr>        <th class=\"col_heading level0 col0\" >Mean Accuracy</th>        <th class=\"col_heading level0 col1\" >Standard Deviation</th>        <th class=\"col_heading level0 col2\" >Parameters</th>    </tr></thead><tbody>\n",
       "                <tr>\n",
       "                                <td id=\"T_7be0ac3e_9409_11eb_8d2c_88787362e1f1row0_col0\" class=\"data row0 col0\" >0.987673</td>\n",
       "                        <td id=\"T_7be0ac3e_9409_11eb_8d2c_88787362e1f1row0_col1\" class=\"data row0 col1\" >0.00182138</td>\n",
       "                        <td id=\"T_7be0ac3e_9409_11eb_8d2c_88787362e1f1row0_col2\" class=\"data row0 col2\" >{'n_estimators': 50}</td>\n",
       "            </tr>\n",
       "            <tr>\n",
       "                                <td id=\"T_7be0ac3e_9409_11eb_8d2c_88787362e1f1row1_col0\" class=\"data row1 col0\" >0.987575</td>\n",
       "                        <td id=\"T_7be0ac3e_9409_11eb_8d2c_88787362e1f1row1_col1\" class=\"data row1 col1\" >0.00190666</td>\n",
       "                        <td id=\"T_7be0ac3e_9409_11eb_8d2c_88787362e1f1row1_col2\" class=\"data row1 col2\" >{'n_estimators': 100}</td>\n",
       "            </tr>\n",
       "            <tr>\n",
       "                                <td id=\"T_7be0ac3e_9409_11eb_8d2c_88787362e1f1row2_col0\" class=\"data row2 col0\" >0.987575</td>\n",
       "                        <td id=\"T_7be0ac3e_9409_11eb_8d2c_88787362e1f1row2_col1\" class=\"data row2 col1\" >0.00202158</td>\n",
       "                        <td id=\"T_7be0ac3e_9409_11eb_8d2c_88787362e1f1row2_col2\" class=\"data row2 col2\" >{'n_estimators': 150}</td>\n",
       "            </tr>\n",
       "            <tr>\n",
       "                                <td id=\"T_7be0ac3e_9409_11eb_8d2c_88787362e1f1row3_col0\" class=\"data row3 col0\" >0.987429</td>\n",
       "                        <td id=\"T_7be0ac3e_9409_11eb_8d2c_88787362e1f1row3_col1\" class=\"data row3 col1\" >0.00187913</td>\n",
       "                        <td id=\"T_7be0ac3e_9409_11eb_8d2c_88787362e1f1row3_col2\" class=\"data row3 col2\" >{'n_estimators': 200}</td>\n",
       "            </tr>\n",
       "            <tr>\n",
       "                                <td id=\"T_7be0ac3e_9409_11eb_8d2c_88787362e1f1row4_col0\" class=\"data row4 col0\" >0.987527</td>\n",
       "                        <td id=\"T_7be0ac3e_9409_11eb_8d2c_88787362e1f1row4_col1\" class=\"data row4 col1\" >0.00196439</td>\n",
       "                        <td id=\"T_7be0ac3e_9409_11eb_8d2c_88787362e1f1row4_col2\" class=\"data row4 col2\" >{'n_estimators': 250}</td>\n",
       "            </tr>\n",
       "    </tbody></table>"
      ],
      "text/plain": [
       "<pandas.io.formats.style.Styler at 0x24a1dfd9400>"
      ]
     },
     "execution_count": 22,
     "metadata": {},
     "output_type": "execute_result"
    }
   ],
   "source": [
    "## Displaying results for each parameter tested\n",
    "means = []\n",
    "stdevs = []\n",
    "means = gridresult.cv_results_['mean_test_score']\n",
    "stdevs = gridresult.cv_results_['std_test_score']\n",
    "parameters = gridresult.cv_results_['params']\n",
    "    \n",
    "mean = np.array(means)\n",
    "stdev = np.array(stdevs)\n",
    "param = np.array(parameters)\n",
    "tuning_results = np.vstack((mean,stdev,param)).transpose()\n",
    "df_res = pd.DataFrame(tuning_results,columns = ['Mean Accuracy','Standard Deviation','Parameters'])\n",
    "df_res = df_res.style.hide_index()\n",
    "df_res"
   ]
  },
  {
   "cell_type": "markdown",
   "metadata": {},
   "source": [
    "### Final Model Evaluation"
   ]
  },
  {
   "cell_type": "code",
   "execution_count": 23,
   "metadata": {},
   "outputs": [
    {
     "name": "stdout",
     "output_type": "stream",
     "text": [
      "Accuracy:  0.9863600935307872\n",
      "[[1690    9    9]\n",
      " [   6 1724   12]\n",
      " [   8   26 1648]]\n"
     ]
    }
   ],
   "source": [
    "model_final = RandomForestClassifier(n_estimators = 50,random_state=seed)\n",
    "model_final.fit(xtrain,ytrain)\n",
    "x_pred = model_final.predict(xtest)\n",
    "accuracy = accuracy_score(ytest,x_pred)\n",
    "print('Accuracy: ',accuracy)\n",
    "\n",
    "## Confusion Matrix of Results\n",
    "CM = confusion_matrix(ytest,x_pred)\n",
    "print(CM)"
   ]
  },
  {
   "cell_type": "code",
   "execution_count": null,
   "metadata": {},
   "outputs": [],
   "source": []
  }
 ],
 "metadata": {
  "kernelspec": {
   "display_name": "Python 3 (ipykernel)",
   "language": "python",
   "name": "python3"
  },
  "language_info": {
   "codemirror_mode": {
    "name": "ipython",
    "version": 3
   },
   "file_extension": ".py",
   "mimetype": "text/x-python",
   "name": "python",
   "nbconvert_exporter": "python",
   "pygments_lexer": "ipython3",
   "version": "3.9.7"
  }
 },
 "nbformat": 4,
 "nbformat_minor": 2
}
